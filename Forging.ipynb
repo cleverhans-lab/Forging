{
  "cells": [
    {
      "cell_type": "code",
      "execution_count": 2,
      "metadata": {
        "id": "JwtbH4fvv2Mt"
      },
      "outputs": [],
      "source": [
        "#Calling Imports \n",
        "\n",
        "import torch\n",
        "import numpy as np\n",
        "from torchvision import transforms, datasets\n",
        "from matplotlib import pyplot as plt\n",
        "import torch.nn as nn\n",
        "import torch.optim as optim\n",
        "import timeit\n",
        "import time\n",
        "import math\n",
        "\n",
        "from models import LeNet5, VGG, ResNet18\n",
        "from helpers import (\n",
        "        weights_to_list, weights_to_list_fast, set_weights,\n",
        "set_weights_fast, validate)\n",
        "\n",
        "from collections import defaultdict\n",
        "import pickle\n",
        "\n",
        "device = 'cuda:0'"
      ]
    },
    {
      "cell_type": "markdown",
      "metadata": {
        "id": "maLp6WRmzD1i"
      },
      "source": [
        "#Defining Main Variables"
      ]
    },
    {
      "cell_type": "code",
      "execution_count": 3,
      "metadata": {
        "id": "xCn8Hu_Gwl07"
      },
      "outputs": [],
      "source": [
        "#Dataset to use, one of: \"cifar10\",\"mnist\",\"cifar100\"\n",
        "dataset = \"mnist\"\n",
        "\n",
        "#Batch Size\n",
        "batch_size = 1000\n",
        "\n",
        "#Number of batches to minimize over (i.e M in the paper)\n",
        "n_samples = 400\n",
        "\n",
        "#For later when we iterate over M\n",
        "n_samples_list = np.arange(50,5000,300)\n",
        "\n",
        "#NOTE: In this copy of the code we have N (variable from the paper) to be size-of-dataset - # of points to unlearn (in this case one batch)\n",
        "\n",
        "#Defines # of epochs before the forging step\n",
        "n_epochs = 1\n",
        "\n",
        "#Defines index of the batch to forge\n",
        "unl_batch_ind = [10]"
      ]
    },
    {
      "cell_type": "code",
      "execution_count": 5,
      "metadata": {
        "colab": {
          "base_uri": "https://localhost:8080/",
          "height": 422,
          "referenced_widgets": [
            "32e96054a4ed4e309a44a864917474af",
            "aad7a337937f4d7fb99534e32461b21a",
            "3ec35483a6634fc8b45183a7f63c4ce1",
            "f940cf5504ae4784b43f787d6568058c",
            "fc1241580a64426dbf1cb3432173025f",
            "83e90c76eaa746df8fe01dbea1ff0f73",
            "dffe5943707443c0b4c117510b86ec7c",
            "3e081556de754abfb8e75d6c08933e71",
            "d42f834c2cc5445e8bd12ed10d08eb8f",
            "2844daf157f34f22839162f0a2090ea1",
            "4d3b992d4e6446a6a91a911d93b969a9",
            "9a33d5935f0b4a72950bfd5f749d2d77",
            "da4c4b76c5f64a6f94bd8a28beb52d98",
            "0f5fc099c2cc4c4aa2c3e20cf2e333d0",
            "6d5c7d01be1d4886bca341136aa83ae6",
            "6dd8ae91c8ba46a8890f5455b3ce15aa",
            "6d13c61a181246c0871fe7c0d277a308",
            "4496c0653e2644d48d78c1d58f10685c",
            "a9338aa3100e44ba9cb1ef827839358d",
            "1045617283834d6983ccd487dce39e79",
            "b6789a8250b44605aa84f422b50e1e68",
            "621ffb2217344e51af163f9294eea042",
            "4dd484ff5730414f81ede7fe7eed82b1",
            "d5c856f9da8749d78be70f01b23c68fc",
            "674428e0ff2940a5b407949f26c81315",
            "9592bfdb9f64400a9a1068e43090a36c",
            "2aa992351d10444cbec3901e4b856ec5",
            "cf446e8ca5b24870a14555b371fb7596",
            "f30a17aa055c4734957a706497d6b76b",
            "0003782ce0224933ac2d828841c500c4",
            "01ca088e16c442df87c48a9a0e557bb4",
            "7a319bd77024495599700735cca76cb2",
            "9ea5795ceeee41d9b6b06e3800b4ee80",
            "7e056ebd94e54aa898004249aec2ee0b",
            "2e3e5d4ba2034dd489d7873c13b30616",
            "217c9dcfe49b4b5d9efd5593d919be58",
            "319dce8add664eb5accc7aa337e72366",
            "c73decf325394382bfaf9abb6ec49a2f",
            "7b5ed9ac3bfe410282c5848e3dc5059d",
            "678696953dc544b18a1bc8794702a773",
            "3a539d9bb5424bfebdd75598af68c29d",
            "ace0dbca3e1a4814bcf3dd8102f2e9f9",
            "58d6d485452f48dd91d7f1d98b864bb4",
            "e21dcdfad53d42a98b648e202f65a5ee"
          ]
        },
        "id": "snvFp1v8xPEk",
        "outputId": "1446b923-fd5a-4d00-9cb0-ca4d3ee7b88c"
      },
      "outputs": [
        {
          "name": "stdout",
          "output_type": "stream",
          "text": [
            "Downloading http://yann.lecun.com/exdb/mnist/train-images-idx3-ubyte.gz\n",
            "Downloading http://yann.lecun.com/exdb/mnist/train-images-idx3-ubyte.gz to ./MNIST/raw/train-images-idx3-ubyte.gz\n"
          ]
        },
        {
          "data": {
            "application/vnd.jupyter.widget-view+json": {
              "model_id": "32e96054a4ed4e309a44a864917474af",
              "version_major": 2,
              "version_minor": 0
            },
            "text/plain": [
              "  0%|          | 0/9912422 [00:00<?, ?it/s]"
            ]
          },
          "metadata": {},
          "output_type": "display_data"
        },
        {
          "name": "stdout",
          "output_type": "stream",
          "text": [
            "Extracting ./MNIST/raw/train-images-idx3-ubyte.gz to ./MNIST/raw\n",
            "\n",
            "Downloading http://yann.lecun.com/exdb/mnist/train-labels-idx1-ubyte.gz\n",
            "Downloading http://yann.lecun.com/exdb/mnist/train-labels-idx1-ubyte.gz to ./MNIST/raw/train-labels-idx1-ubyte.gz\n"
          ]
        },
        {
          "data": {
            "application/vnd.jupyter.widget-view+json": {
              "model_id": "9a33d5935f0b4a72950bfd5f749d2d77",
              "version_major": 2,
              "version_minor": 0
            },
            "text/plain": [
              "  0%|          | 0/28881 [00:00<?, ?it/s]"
            ]
          },
          "metadata": {},
          "output_type": "display_data"
        },
        {
          "name": "stdout",
          "output_type": "stream",
          "text": [
            "Extracting ./MNIST/raw/train-labels-idx1-ubyte.gz to ./MNIST/raw\n",
            "\n",
            "Downloading http://yann.lecun.com/exdb/mnist/t10k-images-idx3-ubyte.gz\n",
            "Downloading http://yann.lecun.com/exdb/mnist/t10k-images-idx3-ubyte.gz to ./MNIST/raw/t10k-images-idx3-ubyte.gz\n"
          ]
        },
        {
          "data": {
            "application/vnd.jupyter.widget-view+json": {
              "model_id": "4dd484ff5730414f81ede7fe7eed82b1",
              "version_major": 2,
              "version_minor": 0
            },
            "text/plain": [
              "  0%|          | 0/1648877 [00:00<?, ?it/s]"
            ]
          },
          "metadata": {},
          "output_type": "display_data"
        },
        {
          "name": "stdout",
          "output_type": "stream",
          "text": [
            "Extracting ./MNIST/raw/t10k-images-idx3-ubyte.gz to ./MNIST/raw\n",
            "\n",
            "Downloading http://yann.lecun.com/exdb/mnist/t10k-labels-idx1-ubyte.gz\n",
            "Downloading http://yann.lecun.com/exdb/mnist/t10k-labels-idx1-ubyte.gz to ./MNIST/raw/t10k-labels-idx1-ubyte.gz\n"
          ]
        },
        {
          "data": {
            "application/vnd.jupyter.widget-view+json": {
              "model_id": "7e056ebd94e54aa898004249aec2ee0b",
              "version_major": 2,
              "version_minor": 0
            },
            "text/plain": [
              "  0%|          | 0/4542 [00:00<?, ?it/s]"
            ]
          },
          "metadata": {},
          "output_type": "display_data"
        },
        {
          "name": "stdout",
          "output_type": "stream",
          "text": [
            "Extracting ./MNIST/raw/t10k-labels-idx1-ubyte.gz to ./MNIST/raw\n",
            "\n"
          ]
        }
      ],
      "source": [
        "#Selecting Datasets\n",
        "#Can Change \"current_model\" to whatever one wants\n",
        "\n",
        "datapath = \".\"\n",
        "\n",
        "if dataset == \"mnist\":\n",
        "    current_model = LeNet5\n",
        "\n",
        "    mnist_tensor = datasets.MNIST(datapath, train = True, download = True, transform= transforms.Compose([transforms.ToTensor()]))\n",
        "    mnist_val_tensor = datasets.MNIST(datapath, train = False, download = True, transform=transforms.Compose([transforms.ToTensor()]))\n",
        "\n",
        "    current_train_data = mnist_tensor\n",
        "    current_val_data = mnist_val_tensor\n",
        "\n",
        "elif dataset == \"cifar10\":\n",
        "    current_model = ResNet18\n",
        "\n",
        "    cifar10_transform_train = transforms.Compose([\n",
        "        transforms.RandomCrop(32, padding=4),\n",
        "        transforms.RandomHorizontalFlip(),\n",
        "        transforms.ToTensor(),\n",
        "        transforms.Normalize((0.4914, 0.4822, 0.4465), (0.2023, 0.1994, 0.2010)),\n",
        "    ])\n",
        "\n",
        "    cifar10_transform_test = transforms.Compose([\n",
        "        transforms.ToTensor(),\n",
        "        transforms.Normalize((0.4914, 0.4822, 0.4465), (0.2023, 0.1994, 0.2010)),\n",
        "    ])\n",
        "\n",
        "    cifar10_tensor = datasets.CIFAR10(\n",
        "        datapath, train = True, download = True, transform=cifar10_transform_train)\n",
        "    cifar10_val_tensor = datasets.CIFAR10(\n",
        "        datapath, train = False, download = True, transform=cifar10_transform_test)\n",
        "\n",
        "    current_train_data = cifar10_tensor\n",
        "    current_val_data   = cifar10_val_tensor\n",
        "\n",
        "elif dataset == \"cifar100\":\n",
        "    current_model = ResNet18\n",
        "\n",
        "    cifar100_transform_train = transforms.Compose([\n",
        "        transforms.RandomCrop(32, padding=4),\n",
        "        transforms.RandomHorizontalFlip(),\n",
        "        transforms.ToTensor(),\n",
        "        transforms.Normalize((0.5071, 0.4867, 0.4408), (0.2675, 0.2565, 0.2761)),\n",
        "    ])\n",
        "\n",
        "    cifar100_transform_test = transforms.Compose([\n",
        "        transforms.ToTensor(),\n",
        "        transforms.Normalize((0.5071, 0.4867, 0.4408), (0.2675, 0.2565, 0.2761)),\n",
        "    ])\n",
        "\n",
        "    cifar100_tensor = datasets.CIFAR100(\n",
        "        datapath, train = True, download = True, transform=cifar100_transform_train)\n",
        "    cifar100_val_tensor = datasets.CIFAR100(\n",
        "        datapath, train = False, download = True, transform=cifar100_transform_test)\n",
        "    \n",
        "    current_train_data = cifar100_tensor\n",
        "    current_val_data = cifar100_val_tensor"
      ]
    },
    {
      "cell_type": "markdown",
      "metadata": {
        "id": "HrIG6JSkygua"
      },
      "source": [
        "#Forging with Fixed Number of Samples"
      ]
    },
    {
      "cell_type": "markdown",
      "metadata": {
        "id": "4KM0-tGqzV-d"
      },
      "source": [
        "First obtain a w_start and a w_final for the weights before and after applying the step to forge"
      ]
    },
    {
      "cell_type": "code",
      "execution_count": 6,
      "metadata": {
        "id": "Q8ze9i-iwzCW"
      },
      "outputs": [],
      "source": [
        "train_dataloader = torch.utils.data.DataLoader(current_train_data, batch_size = batch_size, shuffle= False)\n",
        "train_list = list(train_dataloader)\n",
        "\n",
        "model = current_model()\n",
        "model = model.to(device)\n",
        "\n",
        "parameters_model = [parameter for name,parameter in model.named_parameters()]\n",
        "\n",
        "criterion = nn.CrossEntropyLoss()\n",
        "optimizer = torch.optim.SGD(params = model.parameters(), lr = 0.01)"
      ]
    },
    {
      "cell_type": "code",
      "execution_count": 7,
      "metadata": {
        "colab": {
          "base_uri": "https://localhost:8080/"
        },
        "id": "UvMSH9UEzkO4",
        "outputId": "8d7311cd-8c69-4bf4-e199-389d90dd9344"
      },
      "outputs": [
        {
          "name": "stdout",
          "output_type": "stream",
          "text": [
            "Epoch 0, Batch 0, Loss 2.3026669025421143\n"
          ]
        }
      ],
      "source": [
        "for epoch in range(n_epochs):\n",
        "    for i,(img,label) in enumerate(train_dataloader):\n",
        "\n",
        "      optimizer.zero_grad()\n",
        "      img = img.to(device)\n",
        "      label = label.to(device)\n",
        "\n",
        "      out = model(img)\n",
        "      loss = criterion(out,label)\n",
        "      loss.backward()\n",
        "      optimizer.step()\n",
        "\n",
        "      if i%100==0:\n",
        "        print(f\"Epoch {epoch}, Batch {i}, Loss {loss}\")\n",
        "\n",
        "#Now have w_start\n",
        "w_start = weights_to_list_fast(parameters_model)"
      ]
    },
    {
      "cell_type": "code",
      "execution_count": 8,
      "metadata": {
        "colab": {
          "base_uri": "https://localhost:8080/"
        },
        "id": "W3pwT2XMzzjy",
        "outputId": "bf3c21f6-377b-40cc-ceeb-eb1ed15d4af9"
      },
      "outputs": [
        {
          "name": "stdout",
          "output_type": "stream",
          "text": [
            "10\n"
          ]
        }
      ],
      "source": [
        "#Proceeding to compute weights after forging steps\n",
        "\n",
        "with torch.no_grad():\n",
        "  set_weights_fast(w_start,parameters_model)\n",
        "\n",
        "for ind in unl_batch_ind:\n",
        "  print(ind)\n",
        "  img,label = train_list[ind]\n",
        "\n",
        "\n",
        "  #Comment out below if forging batch\n",
        "\n",
        "  #img = imgs[unl_data_ind]\n",
        "  #img = img.unsqueeze(0)\n",
        "  #label = labels[unl_data_ind]\n",
        "  #label = label.unsqueeze(0)\n",
        "\n",
        "\n",
        "  #compute that update\n",
        "  optimizer.zero_grad()\n",
        "  img = img.to(device)\n",
        "  label = label.to(device)\n",
        "\n",
        "  out = model(img)\n",
        "  loss = criterion(out,label)\n",
        "  loss.backward()\n",
        "  optimizer.step()\n",
        "\n",
        "#save the final weights\n",
        "w_final = weights_to_list_fast(parameters_model)"
      ]
    },
    {
      "cell_type": "markdown",
      "metadata": {
        "id": "Oy4nkb5i0GUr"
      },
      "source": [
        "Now we procced to take a random sample of batches (not including the batch to forge) and find the minimum error producing batch"
      ]
    },
    {
      "cell_type": "code",
      "execution_count": 9,
      "metadata": {
        "id": "wrezj55K0O42"
      },
      "outputs": [],
      "source": [
        "#First remove forged batch from the considered pool\n",
        "len_list = list(range(len(train_list)))\n",
        "del len_list[unl_batch_ind[0]]\n",
        "\n"
      ]
    },
    {
      "cell_type": "code",
      "execution_count": 10,
      "metadata": {
        "id": "t4GEj9iC0j89"
      },
      "outputs": [],
      "source": [
        "#get samples\n",
        "random_batches = np.random.choice(len_list,n_samples)\n",
        "random_inds = np.random.choice(64, n_samples)\n"
      ]
    },
    {
      "cell_type": "code",
      "execution_count": 11,
      "metadata": {
        "colab": {
          "base_uri": "https://localhost:8080/"
        },
        "id": "BQl30Ohj0lrk",
        "outputId": "c96a9f00-5fa0-42c2-f362-c5fb8325412b"
      },
      "outputs": [
        {
          "name": "stdout",
          "output_type": "stream",
          "text": [
            "On 0 sample\n",
            "On 10 sample\n",
            "On 20 sample\n",
            "On 30 sample\n",
            "On 40 sample\n",
            "On 50 sample\n",
            "On 60 sample\n",
            "On 70 sample\n",
            "On 80 sample\n",
            "On 90 sample\n",
            "On 100 sample\n",
            "On 110 sample\n",
            "On 120 sample\n",
            "On 130 sample\n",
            "On 140 sample\n",
            "On 150 sample\n",
            "On 160 sample\n",
            "On 170 sample\n",
            "On 180 sample\n",
            "On 190 sample\n",
            "On 200 sample\n",
            "On 210 sample\n",
            "On 220 sample\n",
            "On 230 sample\n",
            "On 240 sample\n",
            "On 250 sample\n",
            "On 260 sample\n",
            "On 270 sample\n",
            "On 280 sample\n",
            "On 290 sample\n",
            "On 300 sample\n",
            "On 310 sample\n",
            "On 320 sample\n",
            "On 330 sample\n",
            "On 340 sample\n",
            "On 350 sample\n",
            "On 360 sample\n",
            "On 370 sample\n",
            "On 380 sample\n",
            "On 390 sample\n"
          ]
        }
      ],
      "source": [
        "#Collect weights they produce when starting from w_start\n",
        "w_forged_list = []\n",
        "\n",
        "for i in range(n_samples):\n",
        "    if i%10 == 0:\n",
        "      print(f\"On {i} sample\")\n",
        "\n",
        "    with torch.no_grad():\n",
        "      set_weights_fast(w_start,parameters_model)\n",
        "\n",
        "    batch_ind = random_batches[i]\n",
        "    data_ind  = random_inds[i]\n",
        "\n",
        "    imgs,labels = train_list[batch_ind]\n",
        "    img = imgs[data_ind]\n",
        "    img = img.unsqueeze(0)\n",
        "\n",
        "    label = labels[data_ind]\n",
        "    label = label.unsqueeze(0)\n",
        "\n",
        "    #compute that update\n",
        "    optimizer.zero_grad()\n",
        "    img = img.to(device); label = label.to(device)\n",
        "\n",
        "    out = model(img)\n",
        "    loss = criterion(out,label)\n",
        "    loss.backward()\n",
        "    optimizer.step()\n",
        "\n",
        "    w_forged = weights_to_list_fast(parameters_model)\n",
        "    w_forged_list.append(w_forged)"
      ]
    },
    {
      "cell_type": "markdown",
      "metadata": {
        "id": "TpQmqX8r1AHB"
      },
      "source": [
        "Now for $\\ell_2^{2}$ Forging"
      ]
    },
    {
      "cell_type": "code",
      "execution_count": 14,
      "metadata": {
        "colab": {
          "base_uri": "https://localhost:8080/"
        },
        "id": "EMwfAF7H1EM9",
        "outputId": "3a23e3f4-8f94-4eee-be27-331061c3c390"
      },
      "outputs": [
        {
          "name": "stdout",
          "output_type": "stream",
          "text": [
            "319\n",
            "1.2060390560116795e-06\n",
            "321\n",
            "2.0503761842951316e-06\n"
          ]
        }
      ],
      "source": [
        "difs = []\n",
        "#below will contain the l2 squared \n",
        "l2_difs =[]\n",
        "\n",
        "for w_forged in w_forged_list:\n",
        "  dif = np.array(w_final) - np.array(w_forged)\n",
        "  difs.append(dif)\n",
        "\n",
        "  l2_dif = np.dot(dif,dif)\n",
        "  l2_difs.append(l2_dif)\n",
        "\n",
        "l2_difs_np = np.array(l2_difs)\n",
        "arg_min = np.argmin(l2_difs)\n",
        "\n",
        "arg_max = np.argmax(l2_difs)\n",
        "\n",
        "print(arg_min)\n",
        "print(l2_difs_np[arg_min])\n",
        "print(arg_max)\n",
        "print(l2_difs_np[arg_max])"
      ]
    },
    {
      "cell_type": "markdown",
      "metadata": {
        "id": "A92pOYkW0we1"
      },
      "source": [
        "Now for $\\ell_{\\infty}$ Forging (note paper only did $\\ell_2$)"
      ]
    },
    {
      "cell_type": "code",
      "execution_count": 15,
      "metadata": {
        "colab": {
          "base_uri": "https://localhost:8080/"
        },
        "id": "yljoimYU07Jf",
        "outputId": "9f54fdd1-05ad-40b0-c8d5-0c7fa1031b8e"
      },
      "outputs": [
        {
          "name": "stdout",
          "output_type": "stream",
          "text": [
            "0\n",
            "0.0009264536201953888\n",
            "200\n",
            "0.0009606108069419861\n"
          ]
        }
      ],
      "source": [
        "difs = []\n",
        "l_inf_difs = []\n",
        "\n",
        "for w_forged in w_forged_list:\n",
        "  dif = np.array(w_final) - np.array(w_forged)\n",
        "  difs.append(dif)\n",
        "\n",
        "  difs_abs = np.absolute(difs)\n",
        "  l_inf = np.max(difs_abs)\n",
        "  l_inf_difs.append(l_inf)\n",
        "\n",
        "l_inf_difs_np = np.array(l_inf_difs)\n",
        "arg_min = np.argmin(l_inf_difs_np)\n",
        "\n",
        "arg_max = np.argmax(l_inf_difs_np)\n",
        "\n",
        "print(arg_min)\n",
        "print(l_inf_difs_np[arg_min])\n",
        "print(arg_max)\n",
        "print(l_inf_difs_np[arg_max])"
      ]
    },
    {
      "cell_type": "markdown",
      "metadata": {
        "id": "kXaCrP601qQm"
      },
      "source": [
        "#Iterating over M"
      ]
    },
    {
      "cell_type": "markdown",
      "metadata": {
        "id": "ne_XBycq2Tdn"
      },
      "source": [
        "In the following we iterate over different values of M (defined by \"n_samples_list\" variable) and report error in $\\ell_2^{2}$"
      ]
    },
    {
      "cell_type": "code",
      "execution_count": 16,
      "metadata": {
        "id": "oJtln6Hy1bVC"
      },
      "outputs": [],
      "source": [
        "\n",
        "min_difs  = []\n",
        "max_difs  = []\n",
        "mean_difs = []\n"
      ]
    },
    {
      "cell_type": "code",
      "execution_count": null,
      "metadata": {
        "colab": {
          "base_uri": "https://localhost:8080/",
          "height": 1000
        },
        "id": "RczvQwEo2Mck",
        "outputId": "120882e8-6a53-4eb5-e6f8-a83d04f5bb26"
      },
      "outputs": [],
      "source": [
        "for n_samples in n_samples_list:\n",
        "  print(f\"Doing {n_samples} samples\")\n",
        "\n",
        "  random_batches = np.random.choice(len_list,n_samples)\n",
        "  random_inds = np.random.choice(64, n_samples)\n",
        "\n",
        "  w_forged_list = []\n",
        "\n",
        "  for i in range(n_samples):\n",
        "      if i%200 == 0:\n",
        "        print(f\"On {i} sample\")\n",
        "\n",
        "      with torch.no_grad():\n",
        "        set_weights_fast(w_start,parameters_model)\n",
        "\n",
        "      batch_ind = random_batches[i]\n",
        "      data_ind = random_inds[i]\n",
        "\n",
        "      imgs,labels = train_list[batch_ind]\n",
        "      if data_ind >= (len(imgs)-1):\n",
        "        img = imgs[-1]\n",
        "        label = label[-1]\n",
        "      else:\n",
        "        img = imgs[data_ind]\n",
        "        label = labels[data_ind]\n",
        "\n",
        "      img = img.unsqueeze(0)\n",
        "      label = label.unsqueeze(0)\n",
        "\n",
        "      #compute that update\n",
        "      optimizer.zero_grad()\n",
        "      img = img.to(device)\n",
        "      label = label.to(device)\n",
        "\n",
        "      out = model(img)\n",
        "      loss = criterion(out,label)\n",
        "      loss.backward()\n",
        "      optimizer.step()\n",
        "\n",
        "      w_forged = weights_to_list_fast(parameters_model)\n",
        "      w_forged_list.append(w_forged)\n",
        "\n",
        "  l2_difs =[]\n",
        "\n",
        "  for w_forged in w_forged_list:\n",
        "    dif = np.array(w_final) - np.array(w_forged)\n",
        "    l2_dif = np.dot(dif,dif)\n",
        "    l2_difs.append(l2_dif)\n",
        "\n",
        "  arg_min = np.argmin(l2_difs)\n",
        "  min_difs.append(l2_difs[arg_min])\n",
        "\n",
        "  arg_max = np.argmax(l2_difs)\n",
        "  max_difs.append(l2_difs[arg_max])\n",
        "\n",
        "  mean_difs.append(np.mean(l2_difs))"
      ]
    },
    {
      "cell_type": "markdown",
      "metadata": {
        "id": "3mDKoQ6B3N-U"
      },
      "source": [
        "Plotting Results"
      ]
    },
    {
      "cell_type": "code",
      "execution_count": null,
      "metadata": {
        "id": "0A4HP-QU3Nnj"
      },
      "outputs": [],
      "source": [
        "plt.figure()\n",
        "plt.plot(n_samples_list,min_difs)"
      ]
    },
    {
      "cell_type": "code",
      "execution_count": null,
      "metadata": {
        "id": "qRKoGqge3WAT"
      },
      "outputs": [],
      "source": [
        "plt.figure()\n",
        "plt.plot(n_samples_list,max_difs)"
      ]
    },
    {
      "cell_type": "code",
      "execution_count": null,
      "metadata": {
        "id": "o3tMtzqL3Zn3"
      },
      "outputs": [],
      "source": [
        "plt.figure()\n",
        "plt.plot(n_samples_list,mean_difs)"
      ]
    }
  ],
  "metadata": {
    "accelerator": "GPU",
    "colab": {
      "name": "Forging",
      "provenance": []
    },
    "kernelspec": {
      "display_name": "Python 3",
      "name": "python3"
    },
    "language_info": {
      "name": "python"
    },
    "widgets": {
      "application/vnd.jupyter.widget-state+json": {
        "0003782ce0224933ac2d828841c500c4": {
          "model_module": "@jupyter-widgets/controls",
          "model_module_version": "1.5.0",
          "model_name": "ProgressStyleModel",
          "state": {
            "_model_module": "@jupyter-widgets/controls",
            "_model_module_version": "1.5.0",
            "_model_name": "ProgressStyleModel",
            "_view_count": null,
            "_view_module": "@jupyter-widgets/base",
            "_view_module_version": "1.2.0",
            "_view_name": "StyleView",
            "bar_color": null,
            "description_width": ""
          }
        },
        "01ca088e16c442df87c48a9a0e557bb4": {
          "model_module": "@jupyter-widgets/base",
          "model_module_version": "1.2.0",
          "model_name": "LayoutModel",
          "state": {
            "_model_module": "@jupyter-widgets/base",
            "_model_module_version": "1.2.0",
            "_model_name": "LayoutModel",
            "_view_count": null,
            "_view_module": "@jupyter-widgets/base",
            "_view_module_version": "1.2.0",
            "_view_name": "LayoutView",
            "align_content": null,
            "align_items": null,
            "align_self": null,
            "border": null,
            "bottom": null,
            "display": null,
            "flex": null,
            "flex_flow": null,
            "grid_area": null,
            "grid_auto_columns": null,
            "grid_auto_flow": null,
            "grid_auto_rows": null,
            "grid_column": null,
            "grid_gap": null,
            "grid_row": null,
            "grid_template_areas": null,
            "grid_template_columns": null,
            "grid_template_rows": null,
            "height": null,
            "justify_content": null,
            "justify_items": null,
            "left": null,
            "margin": null,
            "max_height": null,
            "max_width": null,
            "min_height": null,
            "min_width": null,
            "object_fit": null,
            "object_position": null,
            "order": null,
            "overflow": null,
            "overflow_x": null,
            "overflow_y": null,
            "padding": null,
            "right": null,
            "top": null,
            "visibility": null,
            "width": null
          }
        },
        "0f5fc099c2cc4c4aa2c3e20cf2e333d0": {
          "model_module": "@jupyter-widgets/controls",
          "model_module_version": "1.5.0",
          "model_name": "HTMLModel",
          "state": {
            "_dom_classes": [],
            "_model_module": "@jupyter-widgets/controls",
            "_model_module_version": "1.5.0",
            "_model_name": "HTMLModel",
            "_view_count": null,
            "_view_module": "@jupyter-widgets/controls",
            "_view_module_version": "1.5.0",
            "_view_name": "HTMLView",
            "description": "",
            "description_tooltip": null,
            "layout": "IPY_MODEL_4496c0653e2644d48d78c1d58f10685c",
            "placeholder": "​",
            "style": "IPY_MODEL_6d13c61a181246c0871fe7c0d277a308",
            "value": ""
          }
        },
        "1045617283834d6983ccd487dce39e79": {
          "model_module": "@jupyter-widgets/base",
          "model_module_version": "1.2.0",
          "model_name": "LayoutModel",
          "state": {
            "_model_module": "@jupyter-widgets/base",
            "_model_module_version": "1.2.0",
            "_model_name": "LayoutModel",
            "_view_count": null,
            "_view_module": "@jupyter-widgets/base",
            "_view_module_version": "1.2.0",
            "_view_name": "LayoutView",
            "align_content": null,
            "align_items": null,
            "align_self": null,
            "border": null,
            "bottom": null,
            "display": null,
            "flex": null,
            "flex_flow": null,
            "grid_area": null,
            "grid_auto_columns": null,
            "grid_auto_flow": null,
            "grid_auto_rows": null,
            "grid_column": null,
            "grid_gap": null,
            "grid_row": null,
            "grid_template_areas": null,
            "grid_template_columns": null,
            "grid_template_rows": null,
            "height": null,
            "justify_content": null,
            "justify_items": null,
            "left": null,
            "margin": null,
            "max_height": null,
            "max_width": null,
            "min_height": null,
            "min_width": null,
            "object_fit": null,
            "object_position": null,
            "order": null,
            "overflow": null,
            "overflow_x": null,
            "overflow_y": null,
            "padding": null,
            "right": null,
            "top": null,
            "visibility": null,
            "width": null
          }
        },
        "217c9dcfe49b4b5d9efd5593d919be58": {
          "model_module": "@jupyter-widgets/controls",
          "model_module_version": "1.5.0",
          "model_name": "HTMLModel",
          "state": {
            "_dom_classes": [],
            "_model_module": "@jupyter-widgets/controls",
            "_model_module_version": "1.5.0",
            "_model_name": "HTMLModel",
            "_view_count": null,
            "_view_module": "@jupyter-widgets/controls",
            "_view_module_version": "1.5.0",
            "_view_name": "HTMLView",
            "description": "",
            "description_tooltip": null,
            "layout": "IPY_MODEL_678696953dc544b18a1bc8794702a773",
            "placeholder": "​",
            "style": "IPY_MODEL_7b5ed9ac3bfe410282c5848e3dc5059d",
            "value": ""
          }
        },
        "2844daf157f34f22839162f0a2090ea1": {
          "model_module": "@jupyter-widgets/controls",
          "model_module_version": "1.5.0",
          "model_name": "DescriptionStyleModel",
          "state": {
            "_model_module": "@jupyter-widgets/controls",
            "_model_module_version": "1.5.0",
            "_model_name": "DescriptionStyleModel",
            "_view_count": null,
            "_view_module": "@jupyter-widgets/base",
            "_view_module_version": "1.2.0",
            "_view_name": "StyleView",
            "description_width": ""
          }
        },
        "2aa992351d10444cbec3901e4b856ec5": {
          "model_module": "@jupyter-widgets/controls",
          "model_module_version": "1.5.0",
          "model_name": "HTMLModel",
          "state": {
            "_dom_classes": [],
            "_model_module": "@jupyter-widgets/controls",
            "_model_module_version": "1.5.0",
            "_model_name": "HTMLModel",
            "_view_count": null,
            "_view_module": "@jupyter-widgets/controls",
            "_view_module_version": "1.5.0",
            "_view_name": "HTMLView",
            "description": "",
            "description_tooltip": null,
            "layout": "IPY_MODEL_9ea5795ceeee41d9b6b06e3800b4ee80",
            "placeholder": "​",
            "style": "IPY_MODEL_7a319bd77024495599700735cca76cb2",
            "value": " 1649664/? [00:00&lt;00:00, 9358297.95it/s]"
          }
        },
        "2e3e5d4ba2034dd489d7873c13b30616": {
          "model_module": "@jupyter-widgets/base",
          "model_module_version": "1.2.0",
          "model_name": "LayoutModel",
          "state": {
            "_model_module": "@jupyter-widgets/base",
            "_model_module_version": "1.2.0",
            "_model_name": "LayoutModel",
            "_view_count": null,
            "_view_module": "@jupyter-widgets/base",
            "_view_module_version": "1.2.0",
            "_view_name": "LayoutView",
            "align_content": null,
            "align_items": null,
            "align_self": null,
            "border": null,
            "bottom": null,
            "display": null,
            "flex": null,
            "flex_flow": null,
            "grid_area": null,
            "grid_auto_columns": null,
            "grid_auto_flow": null,
            "grid_auto_rows": null,
            "grid_column": null,
            "grid_gap": null,
            "grid_row": null,
            "grid_template_areas": null,
            "grid_template_columns": null,
            "grid_template_rows": null,
            "height": null,
            "justify_content": null,
            "justify_items": null,
            "left": null,
            "margin": null,
            "max_height": null,
            "max_width": null,
            "min_height": null,
            "min_width": null,
            "object_fit": null,
            "object_position": null,
            "order": null,
            "overflow": null,
            "overflow_x": null,
            "overflow_y": null,
            "padding": null,
            "right": null,
            "top": null,
            "visibility": null,
            "width": null
          }
        },
        "319dce8add664eb5accc7aa337e72366": {
          "model_module": "@jupyter-widgets/controls",
          "model_module_version": "1.5.0",
          "model_name": "FloatProgressModel",
          "state": {
            "_dom_classes": [],
            "_model_module": "@jupyter-widgets/controls",
            "_model_module_version": "1.5.0",
            "_model_name": "FloatProgressModel",
            "_view_count": null,
            "_view_module": "@jupyter-widgets/controls",
            "_view_module_version": "1.5.0",
            "_view_name": "ProgressView",
            "bar_style": "success",
            "description": "",
            "description_tooltip": null,
            "layout": "IPY_MODEL_ace0dbca3e1a4814bcf3dd8102f2e9f9",
            "max": 4542,
            "min": 0,
            "orientation": "horizontal",
            "style": "IPY_MODEL_3a539d9bb5424bfebdd75598af68c29d",
            "value": 4542
          }
        },
        "32e96054a4ed4e309a44a864917474af": {
          "model_module": "@jupyter-widgets/controls",
          "model_module_version": "1.5.0",
          "model_name": "HBoxModel",
          "state": {
            "_dom_classes": [],
            "_model_module": "@jupyter-widgets/controls",
            "_model_module_version": "1.5.0",
            "_model_name": "HBoxModel",
            "_view_count": null,
            "_view_module": "@jupyter-widgets/controls",
            "_view_module_version": "1.5.0",
            "_view_name": "HBoxView",
            "box_style": "",
            "children": [
              "IPY_MODEL_3ec35483a6634fc8b45183a7f63c4ce1",
              "IPY_MODEL_f940cf5504ae4784b43f787d6568058c",
              "IPY_MODEL_fc1241580a64426dbf1cb3432173025f"
            ],
            "layout": "IPY_MODEL_aad7a337937f4d7fb99534e32461b21a"
          }
        },
        "3a539d9bb5424bfebdd75598af68c29d": {
          "model_module": "@jupyter-widgets/controls",
          "model_module_version": "1.5.0",
          "model_name": "ProgressStyleModel",
          "state": {
            "_model_module": "@jupyter-widgets/controls",
            "_model_module_version": "1.5.0",
            "_model_name": "ProgressStyleModel",
            "_view_count": null,
            "_view_module": "@jupyter-widgets/base",
            "_view_module_version": "1.2.0",
            "_view_name": "StyleView",
            "bar_color": null,
            "description_width": ""
          }
        },
        "3e081556de754abfb8e75d6c08933e71": {
          "model_module": "@jupyter-widgets/controls",
          "model_module_version": "1.5.0",
          "model_name": "ProgressStyleModel",
          "state": {
            "_model_module": "@jupyter-widgets/controls",
            "_model_module_version": "1.5.0",
            "_model_name": "ProgressStyleModel",
            "_view_count": null,
            "_view_module": "@jupyter-widgets/base",
            "_view_module_version": "1.2.0",
            "_view_name": "StyleView",
            "bar_color": null,
            "description_width": ""
          }
        },
        "3ec35483a6634fc8b45183a7f63c4ce1": {
          "model_module": "@jupyter-widgets/controls",
          "model_module_version": "1.5.0",
          "model_name": "HTMLModel",
          "state": {
            "_dom_classes": [],
            "_model_module": "@jupyter-widgets/controls",
            "_model_module_version": "1.5.0",
            "_model_name": "HTMLModel",
            "_view_count": null,
            "_view_module": "@jupyter-widgets/controls",
            "_view_module_version": "1.5.0",
            "_view_name": "HTMLView",
            "description": "",
            "description_tooltip": null,
            "layout": "IPY_MODEL_dffe5943707443c0b4c117510b86ec7c",
            "placeholder": "​",
            "style": "IPY_MODEL_83e90c76eaa746df8fe01dbea1ff0f73",
            "value": ""
          }
        },
        "4496c0653e2644d48d78c1d58f10685c": {
          "model_module": "@jupyter-widgets/base",
          "model_module_version": "1.2.0",
          "model_name": "LayoutModel",
          "state": {
            "_model_module": "@jupyter-widgets/base",
            "_model_module_version": "1.2.0",
            "_model_name": "LayoutModel",
            "_view_count": null,
            "_view_module": "@jupyter-widgets/base",
            "_view_module_version": "1.2.0",
            "_view_name": "LayoutView",
            "align_content": null,
            "align_items": null,
            "align_self": null,
            "border": null,
            "bottom": null,
            "display": null,
            "flex": null,
            "flex_flow": null,
            "grid_area": null,
            "grid_auto_columns": null,
            "grid_auto_flow": null,
            "grid_auto_rows": null,
            "grid_column": null,
            "grid_gap": null,
            "grid_row": null,
            "grid_template_areas": null,
            "grid_template_columns": null,
            "grid_template_rows": null,
            "height": null,
            "justify_content": null,
            "justify_items": null,
            "left": null,
            "margin": null,
            "max_height": null,
            "max_width": null,
            "min_height": null,
            "min_width": null,
            "object_fit": null,
            "object_position": null,
            "order": null,
            "overflow": null,
            "overflow_x": null,
            "overflow_y": null,
            "padding": null,
            "right": null,
            "top": null,
            "visibility": null,
            "width": null
          }
        },
        "4d3b992d4e6446a6a91a911d93b969a9": {
          "model_module": "@jupyter-widgets/base",
          "model_module_version": "1.2.0",
          "model_name": "LayoutModel",
          "state": {
            "_model_module": "@jupyter-widgets/base",
            "_model_module_version": "1.2.0",
            "_model_name": "LayoutModel",
            "_view_count": null,
            "_view_module": "@jupyter-widgets/base",
            "_view_module_version": "1.2.0",
            "_view_name": "LayoutView",
            "align_content": null,
            "align_items": null,
            "align_self": null,
            "border": null,
            "bottom": null,
            "display": null,
            "flex": null,
            "flex_flow": null,
            "grid_area": null,
            "grid_auto_columns": null,
            "grid_auto_flow": null,
            "grid_auto_rows": null,
            "grid_column": null,
            "grid_gap": null,
            "grid_row": null,
            "grid_template_areas": null,
            "grid_template_columns": null,
            "grid_template_rows": null,
            "height": null,
            "justify_content": null,
            "justify_items": null,
            "left": null,
            "margin": null,
            "max_height": null,
            "max_width": null,
            "min_height": null,
            "min_width": null,
            "object_fit": null,
            "object_position": null,
            "order": null,
            "overflow": null,
            "overflow_x": null,
            "overflow_y": null,
            "padding": null,
            "right": null,
            "top": null,
            "visibility": null,
            "width": null
          }
        },
        "4dd484ff5730414f81ede7fe7eed82b1": {
          "model_module": "@jupyter-widgets/controls",
          "model_module_version": "1.5.0",
          "model_name": "HBoxModel",
          "state": {
            "_dom_classes": [],
            "_model_module": "@jupyter-widgets/controls",
            "_model_module_version": "1.5.0",
            "_model_name": "HBoxModel",
            "_view_count": null,
            "_view_module": "@jupyter-widgets/controls",
            "_view_module_version": "1.5.0",
            "_view_name": "HBoxView",
            "box_style": "",
            "children": [
              "IPY_MODEL_674428e0ff2940a5b407949f26c81315",
              "IPY_MODEL_9592bfdb9f64400a9a1068e43090a36c",
              "IPY_MODEL_2aa992351d10444cbec3901e4b856ec5"
            ],
            "layout": "IPY_MODEL_d5c856f9da8749d78be70f01b23c68fc"
          }
        },
        "58d6d485452f48dd91d7f1d98b864bb4": {
          "model_module": "@jupyter-widgets/controls",
          "model_module_version": "1.5.0",
          "model_name": "DescriptionStyleModel",
          "state": {
            "_model_module": "@jupyter-widgets/controls",
            "_model_module_version": "1.5.0",
            "_model_name": "DescriptionStyleModel",
            "_view_count": null,
            "_view_module": "@jupyter-widgets/base",
            "_view_module_version": "1.2.0",
            "_view_name": "StyleView",
            "description_width": ""
          }
        },
        "621ffb2217344e51af163f9294eea042": {
          "model_module": "@jupyter-widgets/base",
          "model_module_version": "1.2.0",
          "model_name": "LayoutModel",
          "state": {
            "_model_module": "@jupyter-widgets/base",
            "_model_module_version": "1.2.0",
            "_model_name": "LayoutModel",
            "_view_count": null,
            "_view_module": "@jupyter-widgets/base",
            "_view_module_version": "1.2.0",
            "_view_name": "LayoutView",
            "align_content": null,
            "align_items": null,
            "align_self": null,
            "border": null,
            "bottom": null,
            "display": null,
            "flex": null,
            "flex_flow": null,
            "grid_area": null,
            "grid_auto_columns": null,
            "grid_auto_flow": null,
            "grid_auto_rows": null,
            "grid_column": null,
            "grid_gap": null,
            "grid_row": null,
            "grid_template_areas": null,
            "grid_template_columns": null,
            "grid_template_rows": null,
            "height": null,
            "justify_content": null,
            "justify_items": null,
            "left": null,
            "margin": null,
            "max_height": null,
            "max_width": null,
            "min_height": null,
            "min_width": null,
            "object_fit": null,
            "object_position": null,
            "order": null,
            "overflow": null,
            "overflow_x": null,
            "overflow_y": null,
            "padding": null,
            "right": null,
            "top": null,
            "visibility": null,
            "width": null
          }
        },
        "674428e0ff2940a5b407949f26c81315": {
          "model_module": "@jupyter-widgets/controls",
          "model_module_version": "1.5.0",
          "model_name": "HTMLModel",
          "state": {
            "_dom_classes": [],
            "_model_module": "@jupyter-widgets/controls",
            "_model_module_version": "1.5.0",
            "_model_name": "HTMLModel",
            "_view_count": null,
            "_view_module": "@jupyter-widgets/controls",
            "_view_module_version": "1.5.0",
            "_view_name": "HTMLView",
            "description": "",
            "description_tooltip": null,
            "layout": "IPY_MODEL_f30a17aa055c4734957a706497d6b76b",
            "placeholder": "​",
            "style": "IPY_MODEL_cf446e8ca5b24870a14555b371fb7596",
            "value": ""
          }
        },
        "678696953dc544b18a1bc8794702a773": {
          "model_module": "@jupyter-widgets/base",
          "model_module_version": "1.2.0",
          "model_name": "LayoutModel",
          "state": {
            "_model_module": "@jupyter-widgets/base",
            "_model_module_version": "1.2.0",
            "_model_name": "LayoutModel",
            "_view_count": null,
            "_view_module": "@jupyter-widgets/base",
            "_view_module_version": "1.2.0",
            "_view_name": "LayoutView",
            "align_content": null,
            "align_items": null,
            "align_self": null,
            "border": null,
            "bottom": null,
            "display": null,
            "flex": null,
            "flex_flow": null,
            "grid_area": null,
            "grid_auto_columns": null,
            "grid_auto_flow": null,
            "grid_auto_rows": null,
            "grid_column": null,
            "grid_gap": null,
            "grid_row": null,
            "grid_template_areas": null,
            "grid_template_columns": null,
            "grid_template_rows": null,
            "height": null,
            "justify_content": null,
            "justify_items": null,
            "left": null,
            "margin": null,
            "max_height": null,
            "max_width": null,
            "min_height": null,
            "min_width": null,
            "object_fit": null,
            "object_position": null,
            "order": null,
            "overflow": null,
            "overflow_x": null,
            "overflow_y": null,
            "padding": null,
            "right": null,
            "top": null,
            "visibility": null,
            "width": null
          }
        },
        "6d13c61a181246c0871fe7c0d277a308": {
          "model_module": "@jupyter-widgets/controls",
          "model_module_version": "1.5.0",
          "model_name": "DescriptionStyleModel",
          "state": {
            "_model_module": "@jupyter-widgets/controls",
            "_model_module_version": "1.5.0",
            "_model_name": "DescriptionStyleModel",
            "_view_count": null,
            "_view_module": "@jupyter-widgets/base",
            "_view_module_version": "1.2.0",
            "_view_name": "StyleView",
            "description_width": ""
          }
        },
        "6d5c7d01be1d4886bca341136aa83ae6": {
          "model_module": "@jupyter-widgets/controls",
          "model_module_version": "1.5.0",
          "model_name": "FloatProgressModel",
          "state": {
            "_dom_classes": [],
            "_model_module": "@jupyter-widgets/controls",
            "_model_module_version": "1.5.0",
            "_model_name": "FloatProgressModel",
            "_view_count": null,
            "_view_module": "@jupyter-widgets/controls",
            "_view_module_version": "1.5.0",
            "_view_name": "ProgressView",
            "bar_style": "success",
            "description": "",
            "description_tooltip": null,
            "layout": "IPY_MODEL_1045617283834d6983ccd487dce39e79",
            "max": 28881,
            "min": 0,
            "orientation": "horizontal",
            "style": "IPY_MODEL_a9338aa3100e44ba9cb1ef827839358d",
            "value": 28881
          }
        },
        "6dd8ae91c8ba46a8890f5455b3ce15aa": {
          "model_module": "@jupyter-widgets/controls",
          "model_module_version": "1.5.0",
          "model_name": "HTMLModel",
          "state": {
            "_dom_classes": [],
            "_model_module": "@jupyter-widgets/controls",
            "_model_module_version": "1.5.0",
            "_model_name": "HTMLModel",
            "_view_count": null,
            "_view_module": "@jupyter-widgets/controls",
            "_view_module_version": "1.5.0",
            "_view_name": "HTMLView",
            "description": "",
            "description_tooltip": null,
            "layout": "IPY_MODEL_621ffb2217344e51af163f9294eea042",
            "placeholder": "​",
            "style": "IPY_MODEL_b6789a8250b44605aa84f422b50e1e68",
            "value": " 29696/? [00:00&lt;00:00, 589937.30it/s]"
          }
        },
        "7a319bd77024495599700735cca76cb2": {
          "model_module": "@jupyter-widgets/controls",
          "model_module_version": "1.5.0",
          "model_name": "DescriptionStyleModel",
          "state": {
            "_model_module": "@jupyter-widgets/controls",
            "_model_module_version": "1.5.0",
            "_model_name": "DescriptionStyleModel",
            "_view_count": null,
            "_view_module": "@jupyter-widgets/base",
            "_view_module_version": "1.2.0",
            "_view_name": "StyleView",
            "description_width": ""
          }
        },
        "7b5ed9ac3bfe410282c5848e3dc5059d": {
          "model_module": "@jupyter-widgets/controls",
          "model_module_version": "1.5.0",
          "model_name": "DescriptionStyleModel",
          "state": {
            "_model_module": "@jupyter-widgets/controls",
            "_model_module_version": "1.5.0",
            "_model_name": "DescriptionStyleModel",
            "_view_count": null,
            "_view_module": "@jupyter-widgets/base",
            "_view_module_version": "1.2.0",
            "_view_name": "StyleView",
            "description_width": ""
          }
        },
        "7e056ebd94e54aa898004249aec2ee0b": {
          "model_module": "@jupyter-widgets/controls",
          "model_module_version": "1.5.0",
          "model_name": "HBoxModel",
          "state": {
            "_dom_classes": [],
            "_model_module": "@jupyter-widgets/controls",
            "_model_module_version": "1.5.0",
            "_model_name": "HBoxModel",
            "_view_count": null,
            "_view_module": "@jupyter-widgets/controls",
            "_view_module_version": "1.5.0",
            "_view_name": "HBoxView",
            "box_style": "",
            "children": [
              "IPY_MODEL_217c9dcfe49b4b5d9efd5593d919be58",
              "IPY_MODEL_319dce8add664eb5accc7aa337e72366",
              "IPY_MODEL_c73decf325394382bfaf9abb6ec49a2f"
            ],
            "layout": "IPY_MODEL_2e3e5d4ba2034dd489d7873c13b30616"
          }
        },
        "83e90c76eaa746df8fe01dbea1ff0f73": {
          "model_module": "@jupyter-widgets/controls",
          "model_module_version": "1.5.0",
          "model_name": "DescriptionStyleModel",
          "state": {
            "_model_module": "@jupyter-widgets/controls",
            "_model_module_version": "1.5.0",
            "_model_name": "DescriptionStyleModel",
            "_view_count": null,
            "_view_module": "@jupyter-widgets/base",
            "_view_module_version": "1.2.0",
            "_view_name": "StyleView",
            "description_width": ""
          }
        },
        "9592bfdb9f64400a9a1068e43090a36c": {
          "model_module": "@jupyter-widgets/controls",
          "model_module_version": "1.5.0",
          "model_name": "FloatProgressModel",
          "state": {
            "_dom_classes": [],
            "_model_module": "@jupyter-widgets/controls",
            "_model_module_version": "1.5.0",
            "_model_name": "FloatProgressModel",
            "_view_count": null,
            "_view_module": "@jupyter-widgets/controls",
            "_view_module_version": "1.5.0",
            "_view_name": "ProgressView",
            "bar_style": "success",
            "description": "",
            "description_tooltip": null,
            "layout": "IPY_MODEL_01ca088e16c442df87c48a9a0e557bb4",
            "max": 1648877,
            "min": 0,
            "orientation": "horizontal",
            "style": "IPY_MODEL_0003782ce0224933ac2d828841c500c4",
            "value": 1648877
          }
        },
        "9a33d5935f0b4a72950bfd5f749d2d77": {
          "model_module": "@jupyter-widgets/controls",
          "model_module_version": "1.5.0",
          "model_name": "HBoxModel",
          "state": {
            "_dom_classes": [],
            "_model_module": "@jupyter-widgets/controls",
            "_model_module_version": "1.5.0",
            "_model_name": "HBoxModel",
            "_view_count": null,
            "_view_module": "@jupyter-widgets/controls",
            "_view_module_version": "1.5.0",
            "_view_name": "HBoxView",
            "box_style": "",
            "children": [
              "IPY_MODEL_0f5fc099c2cc4c4aa2c3e20cf2e333d0",
              "IPY_MODEL_6d5c7d01be1d4886bca341136aa83ae6",
              "IPY_MODEL_6dd8ae91c8ba46a8890f5455b3ce15aa"
            ],
            "layout": "IPY_MODEL_da4c4b76c5f64a6f94bd8a28beb52d98"
          }
        },
        "9ea5795ceeee41d9b6b06e3800b4ee80": {
          "model_module": "@jupyter-widgets/base",
          "model_module_version": "1.2.0",
          "model_name": "LayoutModel",
          "state": {
            "_model_module": "@jupyter-widgets/base",
            "_model_module_version": "1.2.0",
            "_model_name": "LayoutModel",
            "_view_count": null,
            "_view_module": "@jupyter-widgets/base",
            "_view_module_version": "1.2.0",
            "_view_name": "LayoutView",
            "align_content": null,
            "align_items": null,
            "align_self": null,
            "border": null,
            "bottom": null,
            "display": null,
            "flex": null,
            "flex_flow": null,
            "grid_area": null,
            "grid_auto_columns": null,
            "grid_auto_flow": null,
            "grid_auto_rows": null,
            "grid_column": null,
            "grid_gap": null,
            "grid_row": null,
            "grid_template_areas": null,
            "grid_template_columns": null,
            "grid_template_rows": null,
            "height": null,
            "justify_content": null,
            "justify_items": null,
            "left": null,
            "margin": null,
            "max_height": null,
            "max_width": null,
            "min_height": null,
            "min_width": null,
            "object_fit": null,
            "object_position": null,
            "order": null,
            "overflow": null,
            "overflow_x": null,
            "overflow_y": null,
            "padding": null,
            "right": null,
            "top": null,
            "visibility": null,
            "width": null
          }
        },
        "a9338aa3100e44ba9cb1ef827839358d": {
          "model_module": "@jupyter-widgets/controls",
          "model_module_version": "1.5.0",
          "model_name": "ProgressStyleModel",
          "state": {
            "_model_module": "@jupyter-widgets/controls",
            "_model_module_version": "1.5.0",
            "_model_name": "ProgressStyleModel",
            "_view_count": null,
            "_view_module": "@jupyter-widgets/base",
            "_view_module_version": "1.2.0",
            "_view_name": "StyleView",
            "bar_color": null,
            "description_width": ""
          }
        },
        "aad7a337937f4d7fb99534e32461b21a": {
          "model_module": "@jupyter-widgets/base",
          "model_module_version": "1.2.0",
          "model_name": "LayoutModel",
          "state": {
            "_model_module": "@jupyter-widgets/base",
            "_model_module_version": "1.2.0",
            "_model_name": "LayoutModel",
            "_view_count": null,
            "_view_module": "@jupyter-widgets/base",
            "_view_module_version": "1.2.0",
            "_view_name": "LayoutView",
            "align_content": null,
            "align_items": null,
            "align_self": null,
            "border": null,
            "bottom": null,
            "display": null,
            "flex": null,
            "flex_flow": null,
            "grid_area": null,
            "grid_auto_columns": null,
            "grid_auto_flow": null,
            "grid_auto_rows": null,
            "grid_column": null,
            "grid_gap": null,
            "grid_row": null,
            "grid_template_areas": null,
            "grid_template_columns": null,
            "grid_template_rows": null,
            "height": null,
            "justify_content": null,
            "justify_items": null,
            "left": null,
            "margin": null,
            "max_height": null,
            "max_width": null,
            "min_height": null,
            "min_width": null,
            "object_fit": null,
            "object_position": null,
            "order": null,
            "overflow": null,
            "overflow_x": null,
            "overflow_y": null,
            "padding": null,
            "right": null,
            "top": null,
            "visibility": null,
            "width": null
          }
        },
        "ace0dbca3e1a4814bcf3dd8102f2e9f9": {
          "model_module": "@jupyter-widgets/base",
          "model_module_version": "1.2.0",
          "model_name": "LayoutModel",
          "state": {
            "_model_module": "@jupyter-widgets/base",
            "_model_module_version": "1.2.0",
            "_model_name": "LayoutModel",
            "_view_count": null,
            "_view_module": "@jupyter-widgets/base",
            "_view_module_version": "1.2.0",
            "_view_name": "LayoutView",
            "align_content": null,
            "align_items": null,
            "align_self": null,
            "border": null,
            "bottom": null,
            "display": null,
            "flex": null,
            "flex_flow": null,
            "grid_area": null,
            "grid_auto_columns": null,
            "grid_auto_flow": null,
            "grid_auto_rows": null,
            "grid_column": null,
            "grid_gap": null,
            "grid_row": null,
            "grid_template_areas": null,
            "grid_template_columns": null,
            "grid_template_rows": null,
            "height": null,
            "justify_content": null,
            "justify_items": null,
            "left": null,
            "margin": null,
            "max_height": null,
            "max_width": null,
            "min_height": null,
            "min_width": null,
            "object_fit": null,
            "object_position": null,
            "order": null,
            "overflow": null,
            "overflow_x": null,
            "overflow_y": null,
            "padding": null,
            "right": null,
            "top": null,
            "visibility": null,
            "width": null
          }
        },
        "b6789a8250b44605aa84f422b50e1e68": {
          "model_module": "@jupyter-widgets/controls",
          "model_module_version": "1.5.0",
          "model_name": "DescriptionStyleModel",
          "state": {
            "_model_module": "@jupyter-widgets/controls",
            "_model_module_version": "1.5.0",
            "_model_name": "DescriptionStyleModel",
            "_view_count": null,
            "_view_module": "@jupyter-widgets/base",
            "_view_module_version": "1.2.0",
            "_view_name": "StyleView",
            "description_width": ""
          }
        },
        "c73decf325394382bfaf9abb6ec49a2f": {
          "model_module": "@jupyter-widgets/controls",
          "model_module_version": "1.5.0",
          "model_name": "HTMLModel",
          "state": {
            "_dom_classes": [],
            "_model_module": "@jupyter-widgets/controls",
            "_model_module_version": "1.5.0",
            "_model_name": "HTMLModel",
            "_view_count": null,
            "_view_module": "@jupyter-widgets/controls",
            "_view_module_version": "1.5.0",
            "_view_name": "HTMLView",
            "description": "",
            "description_tooltip": null,
            "layout": "IPY_MODEL_e21dcdfad53d42a98b648e202f65a5ee",
            "placeholder": "​",
            "style": "IPY_MODEL_58d6d485452f48dd91d7f1d98b864bb4",
            "value": " 5120/? [00:00&lt;00:00, 124359.88it/s]"
          }
        },
        "cf446e8ca5b24870a14555b371fb7596": {
          "model_module": "@jupyter-widgets/controls",
          "model_module_version": "1.5.0",
          "model_name": "DescriptionStyleModel",
          "state": {
            "_model_module": "@jupyter-widgets/controls",
            "_model_module_version": "1.5.0",
            "_model_name": "DescriptionStyleModel",
            "_view_count": null,
            "_view_module": "@jupyter-widgets/base",
            "_view_module_version": "1.2.0",
            "_view_name": "StyleView",
            "description_width": ""
          }
        },
        "d42f834c2cc5445e8bd12ed10d08eb8f": {
          "model_module": "@jupyter-widgets/base",
          "model_module_version": "1.2.0",
          "model_name": "LayoutModel",
          "state": {
            "_model_module": "@jupyter-widgets/base",
            "_model_module_version": "1.2.0",
            "_model_name": "LayoutModel",
            "_view_count": null,
            "_view_module": "@jupyter-widgets/base",
            "_view_module_version": "1.2.0",
            "_view_name": "LayoutView",
            "align_content": null,
            "align_items": null,
            "align_self": null,
            "border": null,
            "bottom": null,
            "display": null,
            "flex": null,
            "flex_flow": null,
            "grid_area": null,
            "grid_auto_columns": null,
            "grid_auto_flow": null,
            "grid_auto_rows": null,
            "grid_column": null,
            "grid_gap": null,
            "grid_row": null,
            "grid_template_areas": null,
            "grid_template_columns": null,
            "grid_template_rows": null,
            "height": null,
            "justify_content": null,
            "justify_items": null,
            "left": null,
            "margin": null,
            "max_height": null,
            "max_width": null,
            "min_height": null,
            "min_width": null,
            "object_fit": null,
            "object_position": null,
            "order": null,
            "overflow": null,
            "overflow_x": null,
            "overflow_y": null,
            "padding": null,
            "right": null,
            "top": null,
            "visibility": null,
            "width": null
          }
        },
        "d5c856f9da8749d78be70f01b23c68fc": {
          "model_module": "@jupyter-widgets/base",
          "model_module_version": "1.2.0",
          "model_name": "LayoutModel",
          "state": {
            "_model_module": "@jupyter-widgets/base",
            "_model_module_version": "1.2.0",
            "_model_name": "LayoutModel",
            "_view_count": null,
            "_view_module": "@jupyter-widgets/base",
            "_view_module_version": "1.2.0",
            "_view_name": "LayoutView",
            "align_content": null,
            "align_items": null,
            "align_self": null,
            "border": null,
            "bottom": null,
            "display": null,
            "flex": null,
            "flex_flow": null,
            "grid_area": null,
            "grid_auto_columns": null,
            "grid_auto_flow": null,
            "grid_auto_rows": null,
            "grid_column": null,
            "grid_gap": null,
            "grid_row": null,
            "grid_template_areas": null,
            "grid_template_columns": null,
            "grid_template_rows": null,
            "height": null,
            "justify_content": null,
            "justify_items": null,
            "left": null,
            "margin": null,
            "max_height": null,
            "max_width": null,
            "min_height": null,
            "min_width": null,
            "object_fit": null,
            "object_position": null,
            "order": null,
            "overflow": null,
            "overflow_x": null,
            "overflow_y": null,
            "padding": null,
            "right": null,
            "top": null,
            "visibility": null,
            "width": null
          }
        },
        "da4c4b76c5f64a6f94bd8a28beb52d98": {
          "model_module": "@jupyter-widgets/base",
          "model_module_version": "1.2.0",
          "model_name": "LayoutModel",
          "state": {
            "_model_module": "@jupyter-widgets/base",
            "_model_module_version": "1.2.0",
            "_model_name": "LayoutModel",
            "_view_count": null,
            "_view_module": "@jupyter-widgets/base",
            "_view_module_version": "1.2.0",
            "_view_name": "LayoutView",
            "align_content": null,
            "align_items": null,
            "align_self": null,
            "border": null,
            "bottom": null,
            "display": null,
            "flex": null,
            "flex_flow": null,
            "grid_area": null,
            "grid_auto_columns": null,
            "grid_auto_flow": null,
            "grid_auto_rows": null,
            "grid_column": null,
            "grid_gap": null,
            "grid_row": null,
            "grid_template_areas": null,
            "grid_template_columns": null,
            "grid_template_rows": null,
            "height": null,
            "justify_content": null,
            "justify_items": null,
            "left": null,
            "margin": null,
            "max_height": null,
            "max_width": null,
            "min_height": null,
            "min_width": null,
            "object_fit": null,
            "object_position": null,
            "order": null,
            "overflow": null,
            "overflow_x": null,
            "overflow_y": null,
            "padding": null,
            "right": null,
            "top": null,
            "visibility": null,
            "width": null
          }
        },
        "dffe5943707443c0b4c117510b86ec7c": {
          "model_module": "@jupyter-widgets/base",
          "model_module_version": "1.2.0",
          "model_name": "LayoutModel",
          "state": {
            "_model_module": "@jupyter-widgets/base",
            "_model_module_version": "1.2.0",
            "_model_name": "LayoutModel",
            "_view_count": null,
            "_view_module": "@jupyter-widgets/base",
            "_view_module_version": "1.2.0",
            "_view_name": "LayoutView",
            "align_content": null,
            "align_items": null,
            "align_self": null,
            "border": null,
            "bottom": null,
            "display": null,
            "flex": null,
            "flex_flow": null,
            "grid_area": null,
            "grid_auto_columns": null,
            "grid_auto_flow": null,
            "grid_auto_rows": null,
            "grid_column": null,
            "grid_gap": null,
            "grid_row": null,
            "grid_template_areas": null,
            "grid_template_columns": null,
            "grid_template_rows": null,
            "height": null,
            "justify_content": null,
            "justify_items": null,
            "left": null,
            "margin": null,
            "max_height": null,
            "max_width": null,
            "min_height": null,
            "min_width": null,
            "object_fit": null,
            "object_position": null,
            "order": null,
            "overflow": null,
            "overflow_x": null,
            "overflow_y": null,
            "padding": null,
            "right": null,
            "top": null,
            "visibility": null,
            "width": null
          }
        },
        "e21dcdfad53d42a98b648e202f65a5ee": {
          "model_module": "@jupyter-widgets/base",
          "model_module_version": "1.2.0",
          "model_name": "LayoutModel",
          "state": {
            "_model_module": "@jupyter-widgets/base",
            "_model_module_version": "1.2.0",
            "_model_name": "LayoutModel",
            "_view_count": null,
            "_view_module": "@jupyter-widgets/base",
            "_view_module_version": "1.2.0",
            "_view_name": "LayoutView",
            "align_content": null,
            "align_items": null,
            "align_self": null,
            "border": null,
            "bottom": null,
            "display": null,
            "flex": null,
            "flex_flow": null,
            "grid_area": null,
            "grid_auto_columns": null,
            "grid_auto_flow": null,
            "grid_auto_rows": null,
            "grid_column": null,
            "grid_gap": null,
            "grid_row": null,
            "grid_template_areas": null,
            "grid_template_columns": null,
            "grid_template_rows": null,
            "height": null,
            "justify_content": null,
            "justify_items": null,
            "left": null,
            "margin": null,
            "max_height": null,
            "max_width": null,
            "min_height": null,
            "min_width": null,
            "object_fit": null,
            "object_position": null,
            "order": null,
            "overflow": null,
            "overflow_x": null,
            "overflow_y": null,
            "padding": null,
            "right": null,
            "top": null,
            "visibility": null,
            "width": null
          }
        },
        "f30a17aa055c4734957a706497d6b76b": {
          "model_module": "@jupyter-widgets/base",
          "model_module_version": "1.2.0",
          "model_name": "LayoutModel",
          "state": {
            "_model_module": "@jupyter-widgets/base",
            "_model_module_version": "1.2.0",
            "_model_name": "LayoutModel",
            "_view_count": null,
            "_view_module": "@jupyter-widgets/base",
            "_view_module_version": "1.2.0",
            "_view_name": "LayoutView",
            "align_content": null,
            "align_items": null,
            "align_self": null,
            "border": null,
            "bottom": null,
            "display": null,
            "flex": null,
            "flex_flow": null,
            "grid_area": null,
            "grid_auto_columns": null,
            "grid_auto_flow": null,
            "grid_auto_rows": null,
            "grid_column": null,
            "grid_gap": null,
            "grid_row": null,
            "grid_template_areas": null,
            "grid_template_columns": null,
            "grid_template_rows": null,
            "height": null,
            "justify_content": null,
            "justify_items": null,
            "left": null,
            "margin": null,
            "max_height": null,
            "max_width": null,
            "min_height": null,
            "min_width": null,
            "object_fit": null,
            "object_position": null,
            "order": null,
            "overflow": null,
            "overflow_x": null,
            "overflow_y": null,
            "padding": null,
            "right": null,
            "top": null,
            "visibility": null,
            "width": null
          }
        },
        "f940cf5504ae4784b43f787d6568058c": {
          "model_module": "@jupyter-widgets/controls",
          "model_module_version": "1.5.0",
          "model_name": "FloatProgressModel",
          "state": {
            "_dom_classes": [],
            "_model_module": "@jupyter-widgets/controls",
            "_model_module_version": "1.5.0",
            "_model_name": "FloatProgressModel",
            "_view_count": null,
            "_view_module": "@jupyter-widgets/controls",
            "_view_module_version": "1.5.0",
            "_view_name": "ProgressView",
            "bar_style": "success",
            "description": "",
            "description_tooltip": null,
            "layout": "IPY_MODEL_d42f834c2cc5445e8bd12ed10d08eb8f",
            "max": 9912422,
            "min": 0,
            "orientation": "horizontal",
            "style": "IPY_MODEL_3e081556de754abfb8e75d6c08933e71",
            "value": 9912422
          }
        },
        "fc1241580a64426dbf1cb3432173025f": {
          "model_module": "@jupyter-widgets/controls",
          "model_module_version": "1.5.0",
          "model_name": "HTMLModel",
          "state": {
            "_dom_classes": [],
            "_model_module": "@jupyter-widgets/controls",
            "_model_module_version": "1.5.0",
            "_model_name": "HTMLModel",
            "_view_count": null,
            "_view_module": "@jupyter-widgets/controls",
            "_view_module_version": "1.5.0",
            "_view_name": "HTMLView",
            "description": "",
            "description_tooltip": null,
            "layout": "IPY_MODEL_4d3b992d4e6446a6a91a911d93b969a9",
            "placeholder": "​",
            "style": "IPY_MODEL_2844daf157f34f22839162f0a2090ea1",
            "value": " 9913344/? [00:00&lt;00:00, 48768668.90it/s]"
          }
        }
      }
    }
  },
  "nbformat": 4,
  "nbformat_minor": 0
}
